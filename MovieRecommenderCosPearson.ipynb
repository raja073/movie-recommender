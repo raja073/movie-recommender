{
 "cells": [
  {
   "cell_type": "markdown",
   "metadata": {},
   "source": [
    "# <font color='red'>Movie Recommender System Based on Cosine Similarity & Pearson Correlation</font>"
   ]
  },
  {
   "cell_type": "markdown",
   "metadata": {},
   "source": [
    "<font color='blue', size = 4>This is a simple implemntation of a movie recommender system based on collaborative filtering approach. We are usring 'Cosine Similarity' and 'Pearson Correlation' functions to find the similar movies to recommend for new users. The dataset used here is MovieLens 100k dataset.</font>"
   ]
  },
  {
   "cell_type": "markdown",
   "metadata": {},
   "source": [
    "## Index\n",
    "### 1. Data\n",
    "### 2. Priliminary Analysis of Data\n",
    "### 3. Finding 'Popular' Movies\n",
    "### 4. Movie Recommendation Using Cosine Similarity\n",
    "### 5. Movie Recommendation Using Pearson Correlation\n",
    "### 6. Comparison between Cosine Similarity and Pearson Correlation"
   ]
  },
  {
   "cell_type": "code",
   "execution_count": 1,
   "metadata": {
    "collapsed": true
   },
   "outputs": [],
   "source": [
    "# Import Python libraries Pandas, NumPy, Matplotlib, sklearn\n",
    "\n",
    "import pandas as pd\n",
    "import numpy as np\n",
    "from sklearn.metrics.pairwise import cosine_similarity\n",
    "import matplotlib.pyplot as plt\n",
    "%matplotlib inline"
   ]
  },
  {
   "cell_type": "markdown",
   "metadata": {},
   "source": [
    "## <font color='green'>1. Data</font>"
   ]
  },
  {
   "cell_type": "code",
   "execution_count": 2,
   "metadata": {
    "collapsed": false
   },
   "outputs": [
    {
     "name": "stdout",
     "output_type": "stream",
     "text": [
      "First 5 lines of user_rating_df:\n",
      "\n",
      "   user_id  item_id  rating  timestamp\n",
      "0      196      242       3  881250949\n",
      "1      186      302       3  891717742\n",
      "2       22      377       1  878887116\n",
      "3      244       51       2  880606923\n",
      "4      166      346       1  886397596\n",
      "\n",
      "Shape of user_rating_df: (100000, 4)\n",
      "\n",
      "\n",
      "First 5 lines of movie_df:\n",
      "\n",
      "   movie_id        movie_title release_date  video_release_date  \\\n",
      "0         1   Toy Story (1995)  01-Jan-1995                 NaN   \n",
      "1         2   GoldenEye (1995)  01-Jan-1995                 NaN   \n",
      "2         3  Four Rooms (1995)  01-Jan-1995                 NaN   \n",
      "3         4  Get Shorty (1995)  01-Jan-1995                 NaN   \n",
      "4         5     Copycat (1995)  01-Jan-1995                 NaN   \n",
      "\n",
      "                                            IMDb_URL  unknown  Action  \\\n",
      "0  http://us.imdb.com/M/title-exact?Toy%20Story%2...        0       0   \n",
      "1  http://us.imdb.com/M/title-exact?GoldenEye%20(...        0       1   \n",
      "2  http://us.imdb.com/M/title-exact?Four%20Rooms%...        0       0   \n",
      "3  http://us.imdb.com/M/title-exact?Get%20Shorty%...        0       1   \n",
      "4  http://us.imdb.com/M/title-exact?Copycat%20(1995)        0       0   \n",
      "\n",
      "   Adventure  Animation  Children   ...     Fantasy  Film-Noir  Horror  \\\n",
      "0          0          1         1   ...           0          0       0   \n",
      "1          1          0         0   ...           0          0       0   \n",
      "2          0          0         0   ...           0          0       0   \n",
      "3          0          0         0   ...           0          0       0   \n",
      "4          0          0         0   ...           0          0       0   \n",
      "\n",
      "   Musical  Mystery  Romance  Sci-Fi  Thriller  War  Western  \n",
      "0        0        0        0       0         0    0        0  \n",
      "1        0        0        0       0         1    0        0  \n",
      "2        0        0        0       0         1    0        0  \n",
      "3        0        0        0       0         0    0        0  \n",
      "4        0        0        0       0         1    0        0  \n",
      "\n",
      "[5 rows x 24 columns]\n",
      "\n",
      "\n",
      "Shape of movie_df: (1682, 24)\n",
      "\n",
      "\n",
      "First 5 lines of user_df:\n",
      "\n",
      "   user_id  age gender  occupation zip_code\n",
      "0        1   24      M  technician    85711\n",
      "1        2   53      F       other    94043\n",
      "2        3   23      M      writer    32067\n",
      "3        4   24      M  technician    43537\n",
      "4        5   33      F       other    15213\n",
      "\n",
      "\n",
      "Shape of user_df: (943, 5)\n"
     ]
    }
   ],
   "source": [
    "# Import CSV files and convert them into Pandas data-frames\n",
    "# 1) The full u data set, 100000 ratings by 943 users on 1682 items. Each user has rated at least 20 movies.\n",
    "#    Users and items are numbered consecutively from 1. (user_rating_df)\n",
    "# 2) Information about the items (movies). The last 19 fields are the genres, a 1 indicates the movie\n",
    "#    is of that genre, a 0 indicates it is not; movies can be in several genres at once.\n",
    "#    The movie ids are the ones used in the u.data data set. (movies_df)\n",
    "# 3) Demographic information about the users. The user ids are the ones used in the u.data data set. (user_df)\n",
    "\n",
    "\n",
    "rating_col_names = ['user_id', 'item_id', 'rating', 'timestamp']\n",
    "user_rating_df = pd.read_csv('ml-100k/u.data', sep='\\t', encoding='utf-8', names = rating_col_names)\n",
    "\n",
    "movie_col_names = ['movie_id', 'movie_title', 'release_date', 'video_release_date', 'IMDb_URL', 'unknown',\n",
    "                   'Action', 'Adventure', 'Animation', 'Children', 'Comedy', 'Crime', 'Documentary', 'Drama',\n",
    "                   'Fantasy', 'Film-Noir', 'Horror', 'Musical', 'Mystery', 'Romance', 'Sci-Fi', 'Thriller', 'War', 'Western']\n",
    "movie_df = pd.read_csv('ml-100k/u.item', sep ='|', encoding = 'latin', names = movie_col_names)\n",
    "\n",
    "user_col_names = ['user_id', 'age', 'gender', 'occupation', 'zip_code']\n",
    "user_df = pd.read_csv('ml-100k/u.user', encoding='utf-8', sep='|', names = user_col_names)\n",
    "\n",
    "print \"First 5 lines of user_rating_df:\\n\\n\",user_rating_df.head()\n",
    "print \"\\nShape of user_rating_df:\",user_rating_df.shape\n",
    "\n",
    "print \"\\n\\nFirst 5 lines of movie_df:\\n\\n\",movie_df.head()\n",
    "print \"\\n\\nShape of movie_df:\",movie_df.shape\n",
    "\n",
    "print \"\\n\\nFirst 5 lines of user_df:\\n\\n\",user_df.head()\n",
    "print \"\\n\\nShape of user_df:\",user_df.shape"
   ]
  },
  {
   "cell_type": "markdown",
   "metadata": {},
   "source": [
    "## <font color = 'green'>2. Priliminary Analysis of Data</font>"
   ]
  },
  {
   "cell_type": "code",
   "execution_count": 3,
   "metadata": {
    "collapsed": false
   },
   "outputs": [
    {
     "data": {
      "image/png": "[encoded data removed]",
      "text/plain": [
       "<matplotlib.figure.Figure at 0xd5245c0>"
      ]
     },
     "metadata": {},
     "output_type": "display_data"
    }
   ],
   "source": [
    "# Ploting the value counts of 'rating'. This will give a brief understanding about the distribution of 'rating' by different \n",
    "# users on movies.\n",
    "\n",
    "# Convert 'rating' column of DF into pandas series\n",
    "rating_counts = user_rating_df['rating'].value_counts()\n",
    "\n",
    "# Rating values (Eg: 1, 2, 3...5)\n",
    "rating_value = rating_counts.keys()\n",
    "\n",
    "# Number of ratings given by the users\n",
    "r_counts = rating_counts.tolist()\n",
    "\n",
    "# Plotting rating count distribution bar graph\n",
    "\n",
    "x_pos = np.arange(len(rating_value))\n",
    "plt.figure(figsize=(15,5))\n",
    "plt.bar(x_pos, r_counts, align = 'edge', alpha = .5, width = .5)\n",
    "plt.xticks(x_pos, rating_value)\n",
    "plt.xlabel('Rating')\n",
    "plt.ylabel('Rating Count')\n",
    "plt.grid()"
   ]
  },
  {
   "cell_type": "code",
   "execution_count": 4,
   "metadata": {
    "collapsed": false
   },
   "outputs": [],
   "source": [
    "# Ploting the value counts of 'genre' of movies. This will give a brief understanding about the distribution of different\n",
    "# 'genre' of movies.\n",
    "\n",
    "# Movie genre count function\n",
    "def movie_genre_counter(genre_list, df):\n",
    "    \"\"\"Return dictionary of movie genres.\n",
    "    Key of dict is the name of genre and values are value count of that genre\"\"\"\n",
    "    genre_counter = {}\n",
    "    for i in genre_list:\n",
    "        genre_counter[i] = df[i].value_counts()[1]\n",
    "    return genre_counter\n",
    "\n",
    "# Extract 'genre's from movie_df to find the value counts\n",
    "movie_genre = movie_df.columns[5:]\n",
    "\n",
    "# Calling function\n",
    "movier_genre_counter = movie_genre_counter(movie_genre, movie_df)"
   ]
  },
  {
   "cell_type": "code",
   "execution_count": 5,
   "metadata": {
    "collapsed": false
   },
   "outputs": [
    {
     "data": {
      "image/png": "[encoded data removed]",
      "text/plain": [
       "<matplotlib.figure.Figure at 0x104177f0>"
      ]
     },
     "metadata": {},
     "output_type": "display_data"
    }
   ],
   "source": [
    "# Plotting the genre count of total movies\n",
    "\n",
    "genre_name = movier_genre_counter.keys()\n",
    "g_counts = movier_genre_counter.values()\n",
    "\n",
    "# Bar graph\n",
    "x1_pos = np.arange(len(genre_name))\n",
    "plt.figure(figsize=(15,5))\n",
    "plt.bar(x1_pos, g_counts, align = 'edge', alpha = .5, width = .5)\n",
    "plt.xticks(x1_pos, genre_name)\n",
    "plt.xlabel('Genre')\n",
    "plt.ylabel('Number of movies')\n",
    "plt.grid()"
   ]
  },
  {
   "cell_type": "markdown",
   "metadata": {},
   "source": [
    "## <font color='green'>3. Finding 'Popular' Movies</font>"
   ]
  },
  {
   "cell_type": "code",
   "execution_count": 6,
   "metadata": {
    "collapsed": false
   },
   "outputs": [
    {
     "name": "stdout",
     "output_type": "stream",
     "text": [
      "         rating  avg_rating\n",
      "item_id                    \n",
      "50          583    4.358491\n",
      "258         509    3.803536\n",
      "100         508    4.155512\n",
      "181         507    4.007890\n",
      "294         485    3.156701\n",
      "(1682, 2)\n"
     ]
    }
   ],
   "source": [
    "# Find movies which are rated by maximum users\n",
    "# Find movies which have very high mean rating\n",
    "\n",
    "\n",
    "# Movies and their total number of users who rated those movies\n",
    "popular_movie_df = pd.DataFrame(user_rating_df.groupby('item_id')['rating'].count())\n",
    "\n",
    "# Average rating of the movie\n",
    "popular_movie_df['avg_rating'] = pd.DataFrame(user_rating_df.groupby('item_id')['rating'].mean())\n",
    "\n",
    "# Sorting \n",
    "print popular_movie_df.sort_values('rating', ascending=False).head()\n",
    "print popular_movie_df.shape"
   ]
  },
  {
   "cell_type": "code",
   "execution_count": 7,
   "metadata": {
    "collapsed": true
   },
   "outputs": [],
   "source": [
    "# Duplicate the data frame movie_df to new_movie_df with index as movie_id\n",
    "new_movie_df = movie_df.set_index('movie_id')"
   ]
  },
  {
   "cell_type": "code",
   "execution_count": 8,
   "metadata": {
    "collapsed": false
   },
   "outputs": [],
   "source": [
    "# Movie name finder function\n",
    "def movie_id_name_mathcer(*args):\n",
    "    \"\"\"\n",
    "    Return the correspoding movie names of given movie_id's in dictionary format\n",
    "    \"\"\"\n",
    "    id_movie = {}\n",
    "    for arg in args:\n",
    "        movie_name = new_movie_df['movie_title'][new_movie_df.index == arg]\n",
    "        id_movie[arg] = movie_name[arg]\n",
    "    return id_movie"
   ]
  },
  {
   "cell_type": "code",
   "execution_count": 9,
   "metadata": {
    "collapsed": false
   },
   "outputs": [
    {
     "data": {
      "text/plain": [
       "{50: u'Star Wars (1977)',\n",
       " 100: u'Fargo (1996)',\n",
       " 181: u'Return of the Jedi (1983)',\n",
       " 258: u'Contact (1997)',\n",
       " 294: u'Liar Liar (1997)'}"
      ]
     },
     "execution_count": 9,
     "metadata": {},
     "output_type": "execute_result"
    }
   ],
   "source": [
    "# Movie(popular) names from movie_id's \n",
    "movie_id_name_mathcer(50, 258, 100, 181, 294)"
   ]
  },
  {
   "cell_type": "markdown",
   "metadata": {},
   "source": [
    "## <font color='green'>4. Movie Recommendation Using Cosine Similarity </font> "
   ]
  },
  {
   "cell_type": "code",
   "execution_count": 10,
   "metadata": {
    "collapsed": false
   },
   "outputs": [
    {
     "name": "stdout",
     "output_type": "stream",
     "text": [
      "Shape of Pivoted_matrix: (943, 1682)\n",
      "\n",
      "First 5 lines of Pivoted_matrix\n",
      "\n",
      "item_id  1     2     3     4     5     6     7     8     9     10    ...   \\\n",
      "user_id                                                              ...    \n",
      "1         5.0   3.0   4.0   3.0   3.0   5.0   4.0   1.0   5.0   3.0  ...    \n",
      "2         4.0   0.0   0.0   0.0   0.0   0.0   0.0   0.0   0.0   2.0  ...    \n",
      "3         0.0   0.0   0.0   0.0   0.0   0.0   0.0   0.0   0.0   0.0  ...    \n",
      "4         0.0   0.0   0.0   0.0   0.0   0.0   0.0   0.0   0.0   0.0  ...    \n",
      "5         4.0   3.0   0.0   0.0   0.0   0.0   0.0   0.0   0.0   0.0  ...    \n",
      "\n",
      "item_id  1673  1674  1675  1676  1677  1678  1679  1680  1681  1682  \n",
      "user_id                                                              \n",
      "1         0.0   0.0   0.0   0.0   0.0   0.0   0.0   0.0   0.0   0.0  \n",
      "2         0.0   0.0   0.0   0.0   0.0   0.0   0.0   0.0   0.0   0.0  \n",
      "3         0.0   0.0   0.0   0.0   0.0   0.0   0.0   0.0   0.0   0.0  \n",
      "4         0.0   0.0   0.0   0.0   0.0   0.0   0.0   0.0   0.0   0.0  \n",
      "5         0.0   0.0   0.0   0.0   0.0   0.0   0.0   0.0   0.0   0.0  \n",
      "\n",
      "[5 rows x 1682 columns]\n"
     ]
    }
   ],
   "source": [
    "# Create a large sparse Rating-Matrix with user_id, item_id and ratings\n",
    "\n",
    "rating_df_pivot = user_rating_df.pivot(index='user_id', columns='item_id').rating.fillna(0)\n",
    "print \"Shape of Pivoted_matrix:\", rating_df_pivot.shape\n",
    "print \"\\nFirst 5 lines of Pivoted_matrix\\n\\n\", rating_df_pivot.head()"
   ]
  },
  {
   "cell_type": "code",
   "execution_count": 11,
   "metadata": {
    "collapsed": false
   },
   "outputs": [
    {
     "data": {
      "text/plain": [
       "array([[ 1.        ,  0.40238218,  0.33024479, ...,  0.        ,\n",
       "         0.04718307,  0.04718307],\n",
       "       [ 0.40238218,  1.        ,  0.27306918, ...,  0.        ,\n",
       "         0.07829936,  0.07829936],\n",
       "       [ 0.33024479,  0.27306918,  1.        , ...,  0.        ,\n",
       "         0.        ,  0.09687505],\n",
       "       ..., \n",
       "       [ 0.        ,  0.        ,  0.        , ...,  1.        ,\n",
       "         0.        ,  0.        ],\n",
       "       [ 0.04718307,  0.07829936,  0.        , ...,  0.        ,\n",
       "         1.        ,  0.        ],\n",
       "       [ 0.04718307,  0.07829936,  0.09687505, ...,  0.        ,\n",
       "         0.        ,  1.        ]])"
      ]
     },
     "execution_count": 11,
     "metadata": {},
     "output_type": "execute_result"
    }
   ],
   "source": [
    "# Cosine similarity measurement between movies (columns)\n",
    "cos_similer = cosine_similarity(rating_df_pivot.T)\n",
    "\n",
    "# Cosine similarity martix\n",
    "cos_similer"
   ]
  },
  {
   "cell_type": "code",
   "execution_count": 12,
   "metadata": {
    "collapsed": false
   },
   "outputs": [],
   "source": [
    "\n",
    "# Movie name finder function\n",
    "def movie_id_name_mathcer(*args):\n",
    "    \"\"\"\n",
    "    Return the correspoding movie names of given movie_id's in dictionary format\n",
    "    \"\"\"\n",
    "    id_movie = {}\n",
    "    for arg in args:\n",
    "        movie_name = new_movie_df['movie_title'][new_movie_df.index == arg]\n",
    "        id_movie[arg] = movie_name[arg]\n",
    "    return id_movie\n",
    "\n",
    "\n",
    "# Cosinr similar movies finder function\n",
    "def cosine_similar_movies(mov_id):\n",
    "    \"\"\"\n",
    "    Return 20 movie_ids and their names in dictionary format, similar to the movie_id passes as\n",
    "    an argument to this function. Similarity measurement is based on cosine similarity measurement.\n",
    "    \"\"\"\n",
    "    movie_liz = []\n",
    "    \n",
    "    # Find the cosine similarity measurement vector for 'mov_id' from cos_similar NumPy array and convert to a list\n",
    "    cos_list = cos_similer[mov_id-1].tolist()\n",
    "    \n",
    "    # Convert cosine similarity measurement list to enumerated dictionary format.\n",
    "    # Keys are now movie_id's and values are cosine similarity measurement\n",
    "    dic_cos_list = dict(enumerate(cos_list, 1))\n",
    "    \n",
    "    # Sort the dictionary in the descending overder of values and convert back to list\n",
    "    sorted_dic_cos_list = sorted(dic_cos_list.items(), key=lambda x:x[1], reverse = True)\n",
    "    \n",
    "    # Slice the first 20 movies from the list\n",
    "    first_20_movies = sorted_dic_cos_list[:20]\n",
    "    \n",
    "    \n",
    "    for j in first_20_movies:\n",
    "        # Call movie_id_name_matcher function to get the name of the movie\n",
    "        k = movie_id_name_mathcer(j[0])\n",
    "        movie_liz.append(k)\n",
    "        \n",
    "    return movie_liz\n"
   ]
  },
  {
   "cell_type": "code",
   "execution_count": 74,
   "metadata": {
    "collapsed": false
   },
   "outputs": [
    {
     "data": {
      "text/plain": [
       "[{447: u'Carrie (1976)'},\n",
       " {219: u'Nightmare on Elm Street, A (1984)'},\n",
       " {448: u'Omen, The (1976)'},\n",
       " {218: u'Cape Fear (1991)'},\n",
       " {200: u'Shining, The (1980)'},\n",
       " {559: u'Interview with the Vampire (1994)'},\n",
       " {234: u'Jaws (1975)'},\n",
       " {443: u'Birds, The (1963)'},\n",
       " {185: u'Psycho (1960)'},\n",
       " {436: u'American Werewolf in London, An (1981)'},\n",
       " {217: u\"Bram Stoker's Dracula (1992)\"},\n",
       " {98: u'Silence of the Lambs, The (1991)'},\n",
       " {183: u'Alien (1979)'},\n",
       " {195: u'Terminator, The (1984)'},\n",
       " {56: u'Pulp Fiction (1994)'},\n",
       " {230: u'Star Trek IV: The Voyage Home (1986)'},\n",
       " {135: u'2001: A Space Odyssey (1968)'},\n",
       " {211: u'M*A*S*H (1970)'},\n",
       " {164: u'Abyss, The (1989)'},\n",
       " {393: u'Mrs. Doubtfire (1993)'}]"
      ]
     },
     "execution_count": 74,
     "metadata": {},
     "output_type": "execute_result"
    }
   ],
   "source": [
    "# Find the 20 movies similar to the movie 'Carrie' (movie_id = 447)\n",
    "cosine_similar_movies(447)"
   ]
  },
  {
   "cell_type": "markdown",
   "metadata": {},
   "source": [
    "## <font color = 'green'>5. Movie Recommendation Using Pearson Correlation</font>"
   ]
  },
  {
   "cell_type": "code",
   "execution_count": 80,
   "metadata": {
    "collapsed": false
   },
   "outputs": [
    {
     "name": "stdout",
     "output_type": "stream",
     "text": [
      "Shape of pearson_similar data frame: (1682, 1682)\n",
      "\n",
      "\n",
      "First 5 rows of pearson_similar:\n",
      "\n",
      "item_id      1         2         3         4         5         6         7     \\\n",
      "item_id                                                                         \n",
      "1        1.000000  0.234595  0.193362  0.226213  0.128840  0.015113  0.347354   \n",
      "2        0.234595  1.000000  0.190649  0.409044  0.240712  0.030062  0.220022   \n",
      "3        0.193362  0.190649  1.000000  0.227849  0.141368  0.065347  0.258855   \n",
      "4        0.226213  0.409044  0.227849  1.000000  0.237298  0.021878  0.295489   \n",
      "5        0.128840  0.240712  0.141368  0.237298  1.000000 -0.008594  0.205289   \n",
      "\n",
      "item_id      8         9         10      ...         1673      1674      1675  \\\n",
      "item_id                                  ...                                    \n",
      "1        0.254490  0.209502  0.104655    ...     0.018215 -0.029676 -0.029676   \n",
      "2        0.206020  0.077894  0.072906    ...    -0.012451 -0.012451 -0.012451   \n",
      "3        0.078636  0.146181  0.079608    ...    -0.009764 -0.009764 -0.009764   \n",
      "4        0.352800  0.229922  0.138220    ...    -0.016619 -0.016619  0.088984   \n",
      "5        0.145866  0.142541 -0.033746    ...    -0.009889 -0.009889 -0.009889   \n",
      "\n",
      "item_id      1676      1677      1678      1679      1680      1681      1682  \n",
      "item_id                                                                        \n",
      "1       -0.029676  0.018215 -0.029676 -0.029676 -0.029676  0.034179  0.034179  \n",
      "2       -0.012451 -0.012451 -0.012451 -0.012451 -0.012451  0.071415  0.071415  \n",
      "3       -0.009764  0.023964 -0.009764 -0.009764 -0.009764 -0.009764  0.091421  \n",
      "4        0.088984  0.025622 -0.016619 -0.016619 -0.016619  0.046743  0.067863  \n",
      "5       -0.009889 -0.009889 -0.009889 -0.009889 -0.009889 -0.009889  0.088618  \n",
      "\n",
      "[5 rows x 1682 columns]\n"
     ]
    }
   ],
   "source": [
    "# Pearson's Correlation measurement between movies (columns)\n",
    "pearson_similer = rating_df_pivot.corr()\n",
    "\n",
    "# Pearson's Correlation martix data frame\n",
    "print \"Shape of pearson_similar data frame:\", pearson_similer.shape\n",
    "print \"\\n\\nFirst 5 rows of pearson_similar:\\n\\n\", pearson_similer.head()"
   ]
  },
  {
   "cell_type": "code",
   "execution_count": 81,
   "metadata": {
    "collapsed": true
   },
   "outputs": [],
   "source": [
    "# Movie name finder function\n",
    "def movie_id_name_mathcer(*args):\n",
    "    \"\"\"\n",
    "    Return the correspoding movie names of given movie_id's in dictionary format\n",
    "    \"\"\"\n",
    "    id_movie = {}\n",
    "    for arg in args:\n",
    "        movie_name = new_movie_df['movie_title'][new_movie_df.index == arg]\n",
    "        id_movie[arg] = movie_name[arg]\n",
    "    return id_movie\n",
    "\n",
    "\n",
    "# Pearson similar movies finder function\n",
    "def pearson_similar_movies(mov_id):\n",
    "    \"\"\"\n",
    "    Return 20 movie_ids and their names in dictionary format, similar to the movie_id passes as\n",
    "    an argument to this function. Similarity measurement is based on pearson correlation measurement.\n",
    "    \"\"\"\n",
    "    movie_lizt = []\n",
    "    \n",
    "    # Find the pearson correlation measurement column for 'mov_id' from pearson_similar data frame and convert to a list\n",
    "    pearson_list = pearson_similer[mov_id].tolist()\n",
    "    \n",
    "    # Convert pearson correlation measurement list to enumerated dictionary format.\n",
    "    # Keys are now movie_id's and values are pearson correlation measurement\n",
    "    dic_pear_list = dict(enumerate(pearson_list, 1))\n",
    "    \n",
    "    # Sort the dictionary in the descending overder of values and convert back to list\n",
    "    sorted_dic_pear_list = sorted(dic_pear_list.items(), key=lambda x:x[1], reverse = True)\n",
    "    \n",
    "    # Slice the first 20 movies from the list\n",
    "    first_20_movies_pear = sorted_dic_pear_list[:20]\n",
    "    \n",
    "    \n",
    "    for k in first_20_movies_pear:\n",
    "        # Call movie_id_name_matcher function to get the name of the movie\n",
    "        l = movie_id_name_mathcer(k[0])\n",
    "        movie_lizt.append(l)\n",
    "        \n",
    "    return movie_lizt\n"
   ]
  },
  {
   "cell_type": "code",
   "execution_count": 82,
   "metadata": {
    "collapsed": false
   },
   "outputs": [
    {
     "data": {
      "text/plain": [
       "[{447: u'Carrie (1976)'},\n",
       " {219: u'Nightmare on Elm Street, A (1984)'},\n",
       " {448: u'Omen, The (1976)'},\n",
       " {218: u'Cape Fear (1991)'},\n",
       " {200: u'Shining, The (1980)'},\n",
       " {559: u'Interview with the Vampire (1994)'},\n",
       " {436: u'American Werewolf in London, An (1981)'},\n",
       " {443: u'Birds, The (1963)'},\n",
       " {234: u'Jaws (1975)'},\n",
       " {185: u'Psycho (1960)'},\n",
       " {217: u\"Bram Stoker's Dracula (1992)\"},\n",
       " {444: u'Blob, The (1958)'},\n",
       " {441: u'Amityville Horror, The (1979)'},\n",
       " {637: u'Howling, The (1981)'},\n",
       " {452: u'Jaws 2 (1978)'},\n",
       " {674: u'Cat People (1982)'},\n",
       " {98: u'Silence of the Lambs, The (1991)'},\n",
       " {671: u'Bride of Frankenstein (1935)'},\n",
       " {636: u'Escape from New York (1981)'},\n",
       " {53: u'Natural Born Killers (1994)'}]"
      ]
     },
     "execution_count": 82,
     "metadata": {},
     "output_type": "execute_result"
    }
   ],
   "source": [
    "pearson_similar_movies(447)"
   ]
  },
  {
   "cell_type": "markdown",
   "metadata": {},
   "source": [
    "## <font color='green'>6. Comparison between Cosine Similarity and Pearson Correlation</font>"
   ]
  },
  {
   "cell_type": "code",
   "execution_count": 83,
   "metadata": {
    "collapsed": false
   },
   "outputs": [
    {
     "name": "stdout",
     "output_type": "stream",
     "text": [
      "Cosine Similarity:\n",
      "[{465: u'Jungle Book, The (1994)'}, {99: u'Snow White and the Seven Dwarfs (1937)'}, {404: u'Pinocchio (1940)'}, {393: u'Mrs. Doubtfire (1993)'}, {419: u'Mary Poppins (1964)'}, {588: u'Beauty and the Beast (1991)'}, {82: u'Jurassic Park (1993)'}, {71: u'Lion King, The (1994)'}, {95: u'Aladdin (1992)'}, {501: u'Dumbo (1941)'}, {418: u'Cinderella (1950)'}, {420: u'Alice in Wonderland (1951)'}, {423: u'E.T. the Extra-Terrestrial (1982)'}, {102: u'Aristocats, The (1970)'}, {622: u'Swiss Family Robinson (1960)'}, {140: u'Homeward Bound: The Incredible Journey (1993)'}, {94: u'Home Alone (1990)'}, {143: u'Sound of Music, The (1965)'}, {768: u'Casper (1995)'}, {73: u'Maverick (1994)'}]\n",
      "\n",
      "\n",
      "Pearson Similarity:\n",
      "[{465: u'Jungle Book, The (1994)'}, {404: u'Pinocchio (1940)'}, {99: u'Snow White and the Seven Dwarfs (1937)'}, {393: u'Mrs. Doubtfire (1993)'}, {419: u'Mary Poppins (1964)'}, {622: u'Swiss Family Robinson (1960)'}, {102: u'Aristocats, The (1970)'}, {420: u'Alice in Wonderland (1951)'}, {501: u'Dumbo (1941)'}, {140: u'Homeward Bound: The Incredible Journey (1993)'}, {588: u'Beauty and the Beast (1991)'}, {71: u'Lion King, The (1994)'}, {418: u'Cinderella (1950)'}, {82: u'Jurassic Park (1993)'}, {95: u'Aladdin (1992)'}, {768: u'Casper (1995)'}, {423: u'E.T. the Extra-Terrestrial (1982)'}, {94: u'Home Alone (1990)'}, {951: u'Indian in the Cupboard, The (1995)'}, {625: u'Sword in the Stone, The (1963)'}]\n"
     ]
    }
   ],
   "source": [
    "# Similar movies to 'The Jungle Book' (movie_id: 465)\n",
    "\n",
    "print \"Cosine Similarity:\\n\", cosine_similar_movies(465)\n",
    "print \"\\n\\nPearson Similarity:\\n\", pearson_similar_movies(465)"
   ]
  },
  {
   "cell_type": "code",
   "execution_count": 84,
   "metadata": {
    "collapsed": false
   },
   "outputs": [
    {
     "name": "stdout",
     "output_type": "stream",
     "text": [
      "Cosine Similarity:\n",
      "[{1016: u'Con Air (1997)'}, {298: u'Face/Off (1997)'}, {117: u'Rock, The (1996)'}, {405: u'Mission: Impossible (1996)'}, {252: u'Lost World: Jurassic Park, The (1997)'}, {742: u'Ransom (1996)'}, {250: u'Fifth Element, The (1997)'}, {257: u'Men in Black (1997)'}, {121: u'Independence Day (ID4) (1996)'}, {249: u'Austin Powers: International Man of Mystery (1997)'}, {24: u'Rumble in the Bronx (1995)'}, {248: u'Grosse Pointe Blank (1997)'}, {597: u'Eraser (1996)'}, {685: u'Executive Decision (1996)'}, {181: u'Return of the Jedi (1983)'}, {282: u'Time to Kill, A (1996)'}, {118: u'Twister (1996)'}, {222: u'Star Trek: First Contact (1996)'}, {125: u'Phenomenon (1996)'}, {546: u'Broken Arrow (1996)'}]\n",
      "\n",
      "\n",
      "Pearson Similarity:\n",
      "[{1016: u'Con Air (1997)'}, {298: u'Face/Off (1997)'}, {117: u'Rock, The (1996)'}, {252: u'Lost World: Jurassic Park, The (1997)'}, {405: u'Mission: Impossible (1996)'}, {250: u'Fifth Element, The (1997)'}, {742: u'Ransom (1996)'}, {1244: u'Metro (1997)'}, {249: u'Austin Powers: International Man of Mystery (1997)'}, {257: u'Men in Black (1997)'}, {24: u'Rumble in the Bronx (1995)'}, {248: u'Grosse Pointe Blank (1997)'}, {685: u'Executive Decision (1996)'}, {121: u'Independence Day (ID4) (1996)'}, {597: u'Eraser (1996)'}, {763: u'Happy Gilmore (1996)'}, {282: u'Time to Kill, A (1996)'}, {147: u'Long Kiss Goodnight, The (1996)'}, {291: u'Absolute Power (1997)'}, {1014: u\"Romy and Michele's High School Reunion (1997)\"}]\n"
     ]
    }
   ],
   "source": [
    "# Similar movies to 'Con Air' (movie_id: 1016)\n",
    "\n",
    "print \"Cosine Similarity:\\n\", cosine_similar_movies(1016)\n",
    "print \"\\n\\nPearson Similarity:\\n\", pearson_similar_movies(1016)"
   ]
  },
  {
   "cell_type": "code",
   "execution_count": 85,
   "metadata": {
    "collapsed": false
   },
   "outputs": [
    {
     "name": "stdout",
     "output_type": "stream",
     "text": [
      "Cosine Similarity:\n",
      "[{249: u'Austin Powers: International Man of Mystery (1997)'}, {257: u'Men in Black (1997)'}, {250: u'Fifth Element, The (1997)'}, {248: u'Grosse Pointe Blank (1997)'}, {298: u'Face/Off (1997)'}, {1016: u'Con Air (1997)'}, {122: u'Cable Guy, The (1996)'}, {240: u'Beavis and Butt-head Do America (1996)'}, {24: u'Rumble in the Bronx (1995)'}, {405: u'Mission: Impossible (1996)'}, {181: u'Return of the Jedi (1983)'}, {763: u'Happy Gilmore (1996)'}, {1012: u'Private Parts (1997)'}, {50: u'Star Wars (1977)'}, {109: u'Mystery Science Theater 3000: The Movie (1996)'}, {117: u'Rock, The (1996)'}, {411: u'Nutty Professor, The (1996)'}, {246: u'Chasing Amy (1997)'}, {121: u'Independence Day (ID4) (1996)'}, {156: u'Reservoir Dogs (1992)'}]\n",
      "\n",
      "\n",
      "Pearson Similarity:\n",
      "[{249: u'Austin Powers: International Man of Mystery (1997)'}, {250: u'Fifth Element, The (1997)'}, {248: u'Grosse Pointe Blank (1997)'}, {1016: u'Con Air (1997)'}, {122: u'Cable Guy, The (1996)'}, {257: u'Men in Black (1997)'}, {298: u'Face/Off (1997)'}, {240: u'Beavis and Butt-head Do America (1996)'}, {1012: u'Private Parts (1997)'}, {763: u'Happy Gilmore (1996)'}, {24: u'Rumble in the Bronx (1995)'}, {109: u'Mystery Science Theater 3000: The Movie (1996)'}, {3: u'Four Rooms (1995)'}, {246: u'Chasing Amy (1997)'}, {411: u'Nutty Professor, The (1996)'}, {833: u'Bulletproof (1996)'}, {156: u'Reservoir Dogs (1992)'}, {1014: u\"Romy and Michele's High School Reunion (1997)\"}, {926: u'Down Periscope (1996)'}, {410: u'Kingpin (1996)'}]\n"
     ]
    }
   ],
   "source": [
    "# Similar movies to 'Austin Powers: International Man of Mystery' (movie_id: 249)\n",
    "\n",
    "print \"Cosine Similarity:\\n\", cosine_similar_movies(249)\n",
    "print \"\\n\\nPearson Similarity:\\n\", pearson_similar_movies(249)"
   ]
  }
 ],
 "metadata": {
  "anaconda-cloud": {},
  "kernelspec": {
   "display_name": "Python [Root]",
   "language": "python",
   "name": "Python [Root]"
  },
  "language_info": {
   "codemirror_mode": {
    "name": "ipython",
    "version": 2
   },
   "file_extension": ".py",
   "mimetype": "text/x-python",
   "name": "python",
   "nbconvert_exporter": "python",
   "pygments_lexer": "ipython2",
   "version": "2.7.12"
  }
 },
 "nbformat": 4,
 "nbformat_minor": 2
}
